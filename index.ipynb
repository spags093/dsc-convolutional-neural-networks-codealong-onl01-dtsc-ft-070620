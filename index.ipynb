{
 "cells": [
  {
   "cell_type": "markdown",
   "metadata": {},
   "source": [
    "# Convolutional Neural Networks - Codealong\n",
    "\n",
    "## Introduction\n",
    "\n",
    "In this codealong, we will reinvestigate our previous Santa image classification example. To do this, we will review loading a dataset from a nested directory structure and building a baseline model. From there, we'll build a CNN and demonstrate its improved performance on image recognition tasks. It is recommended you run the cells in order to further explore variables and investigate the code snippets themselves. However, please note that some cells (particularly training cells later on) may take several minutes to run. (On a Macbook pro the entire notebook took ~15 minutes to run.)\n",
    "\n",
    "## Objectives  \n",
    "\n",
    "You will be able to:\n",
    "\n",
    "- Load images from a hierarchical file structure using an image datagenerator \n",
    "- Explain why one might augment image data when training a neural network \n",
    "- Apply data augmentation to image files before training a neural network \n",
    "- Build a CNN using Keras "
   ]
  },
  {
   "cell_type": "markdown",
   "metadata": {},
   "source": [
    "## Properly store your images \n",
    "\n",
    "When you're analyzing your image data, file management is important. We will be using the santa images again, but this time, they are stored in two folders: `santa` and `not_santa`. We want to work with a `train`, `validation`, and `test` datasets now, as we know by now that this is the best way to obtain unbiased estimate of your model performance.  \n",
    "\n",
    "Let's import libraries `os` and `shutil`, as we'll need them to create the new folders and move the new files in there."
   ]
  },
  {
   "cell_type": "code",
   "execution_count": 1,
   "metadata": {
    "ExecuteTime": {
     "end_time": "2020-10-21T02:04:18.460731Z",
     "start_time": "2020-10-21T02:04:18.455332Z"
    }
   },
   "outputs": [],
   "source": [
    "import os, shutil"
   ]
  },
  {
   "cell_type": "markdown",
   "metadata": {},
   "source": [
    "Below we create three objects representing the existing directories: `data/santa/` as `data_santa_dir` and `data/not_santa/` as `data_not_santa_dir`. We will create a new directory `split/` as `new_dir`, where we will split the dataset in three groups (or three subdirectories): `train`, `test`, and `validation`, each containing `santa` and `not_santa` subfolders. The final desired structure is represented below: \n",
    "\n",
    "![title](images/folder_structure.png)"
   ]
  },
  {
   "cell_type": "code",
   "execution_count": 2,
   "metadata": {
    "ExecuteTime": {
     "end_time": "2020-10-21T02:04:20.416094Z",
     "start_time": "2020-10-21T02:04:20.412824Z"
    }
   },
   "outputs": [],
   "source": [
    "data_santa_dir = 'data/santa/'\n",
    "data_not_santa_dir = 'data/not_santa/'\n",
    "new_dir = 'split/'"
   ]
  },
  {
   "cell_type": "markdown",
   "metadata": {},
   "source": [
    "You can use `os.listdir()` to create an object that stores all the relevant image names. "
   ]
  },
  {
   "cell_type": "code",
   "execution_count": 3,
   "metadata": {
    "ExecuteTime": {
     "end_time": "2020-10-21T02:04:21.745312Z",
     "start_time": "2020-10-21T02:04:21.740646Z"
    }
   },
   "outputs": [],
   "source": [
    "imgs_santa = [file for file in os.listdir(data_santa_dir) if file.endswith('.jpg')]"
   ]
  },
  {
   "cell_type": "code",
   "execution_count": 4,
   "metadata": {
    "ExecuteTime": {
     "end_time": "2020-10-21T02:04:22.361995Z",
     "start_time": "2020-10-21T02:04:22.348436Z"
    }
   },
   "outputs": [
    {
     "data": {
      "text/plain": [
       "['00000428.jpg',\n",
       " '00000400.jpg',\n",
       " '00000366.jpg',\n",
       " '00000372.jpg',\n",
       " '00000414.jpg',\n",
       " '00000399.jpg',\n",
       " '00000158.jpg',\n",
       " '00000164.jpg',\n",
       " '00000170.jpg',\n",
       " '00000038.jpg']"
      ]
     },
     "execution_count": 4,
     "metadata": {},
     "output_type": "execute_result"
    }
   ],
   "source": [
    "imgs_santa[0:10]"
   ]
  },
  {
   "cell_type": "markdown",
   "metadata": {},
   "source": [
    "Let's see how many images there are in the `santa` directory."
   ]
  },
  {
   "cell_type": "code",
   "execution_count": 5,
   "metadata": {
    "ExecuteTime": {
     "end_time": "2020-10-21T02:04:23.505842Z",
     "start_time": "2020-10-21T02:04:23.500357Z"
    }
   },
   "outputs": [
    {
     "name": "stdout",
     "output_type": "stream",
     "text": [
      "There are 461 santa images\n"
     ]
    }
   ],
   "source": [
    "print('There are', len(imgs_santa), 'santa images')"
   ]
  },
  {
   "cell_type": "markdown",
   "metadata": {},
   "source": [
    "Now, repeat this for the `not_santa` directory: "
   ]
  },
  {
   "cell_type": "code",
   "execution_count": 6,
   "metadata": {
    "ExecuteTime": {
     "end_time": "2020-10-21T02:04:24.825463Z",
     "start_time": "2020-10-21T02:04:24.820466Z"
    }
   },
   "outputs": [],
   "source": [
    "imgs_not_santa = [file for file in os.listdir(data_not_santa_dir) if file.endswith('.jpg')]"
   ]
  },
  {
   "cell_type": "code",
   "execution_count": 7,
   "metadata": {
    "ExecuteTime": {
     "end_time": "2020-10-21T02:04:25.737153Z",
     "start_time": "2020-10-21T02:04:25.732367Z"
    }
   },
   "outputs": [
    {
     "name": "stdout",
     "output_type": "stream",
     "text": [
      "There are 461 images without santa\n"
     ]
    }
   ],
   "source": [
    "print('There are', len(imgs_not_santa), 'images without santa')"
   ]
  },
  {
   "cell_type": "markdown",
   "metadata": {},
   "source": [
    "Create all the folders and subfolders in order to get the structure represented above. You can use `os.path.join()` to create strings that will be used later on to generate new directories."
   ]
  },
  {
   "cell_type": "code",
   "execution_count": 8,
   "metadata": {
    "ExecuteTime": {
     "end_time": "2020-10-21T02:04:27.209467Z",
     "start_time": "2020-10-21T02:04:27.027887Z"
    }
   },
   "outputs": [
    {
     "ename": "FileExistsError",
     "evalue": "[Errno 17] File exists: 'split/'",
     "output_type": "error",
     "traceback": [
      "\u001b[0;31m---------------------------------------------------------------------------\u001b[0m",
      "\u001b[0;31mFileExistsError\u001b[0m                           Traceback (most recent call last)",
      "\u001b[0;32m<ipython-input-8-0d1f8d3cb245>\u001b[0m in \u001b[0;36m<module>\u001b[0;34m\u001b[0m\n\u001b[0;32m----> 1\u001b[0;31m \u001b[0mos\u001b[0m\u001b[0;34m.\u001b[0m\u001b[0mmkdir\u001b[0m\u001b[0;34m(\u001b[0m\u001b[0mnew_dir\u001b[0m\u001b[0;34m)\u001b[0m\u001b[0;34m\u001b[0m\u001b[0;34m\u001b[0m\u001b[0m\n\u001b[0m",
      "\u001b[0;31mFileExistsError\u001b[0m: [Errno 17] File exists: 'split/'"
     ]
    }
   ],
   "source": [
    "os.mkdir(new_dir)"
   ]
  },
  {
   "cell_type": "code",
   "execution_count": 9,
   "metadata": {
    "ExecuteTime": {
     "end_time": "2020-10-21T02:04:31.395789Z",
     "start_time": "2020-10-21T02:04:31.388915Z"
    }
   },
   "outputs": [],
   "source": [
    "train_folder = os.path.join(new_dir, 'train')\n",
    "train_santa = os.path.join(train_folder, 'santa')\n",
    "train_not_santa = os.path.join(train_folder, 'not_santa')\n",
    "\n",
    "test_folder = os.path.join(new_dir, 'test')\n",
    "test_santa = os.path.join(test_folder, 'santa')\n",
    "test_not_santa = os.path.join(test_folder, 'not_santa')\n",
    "\n",
    "val_folder = os.path.join(new_dir, 'validation')\n",
    "val_santa = os.path.join(val_folder, 'santa')\n",
    "val_not_santa = os.path.join(val_folder, 'not_santa')"
   ]
  },
  {
   "cell_type": "code",
   "execution_count": 10,
   "metadata": {
    "ExecuteTime": {
     "end_time": "2020-10-21T02:04:33.085711Z",
     "start_time": "2020-10-21T02:04:33.081054Z"
    }
   },
   "outputs": [
    {
     "data": {
      "text/plain": [
       "'split/train/santa'"
      ]
     },
     "execution_count": 10,
     "metadata": {},
     "output_type": "execute_result"
    }
   ],
   "source": [
    "train_santa"
   ]
  },
  {
   "cell_type": "markdown",
   "metadata": {},
   "source": [
    "Now use all the path strings you created to make new directories. You can use `os.mkdir()` to do this. Go have a look at your directory and see if this worked!"
   ]
  },
  {
   "cell_type": "code",
   "execution_count": 11,
   "metadata": {
    "ExecuteTime": {
     "end_time": "2020-10-21T02:04:34.311415Z",
     "start_time": "2020-10-21T02:04:34.300663Z"
    }
   },
   "outputs": [
    {
     "ename": "FileExistsError",
     "evalue": "[Errno 17] File exists: 'split/test'",
     "output_type": "error",
     "traceback": [
      "\u001b[0;31m---------------------------------------------------------------------------\u001b[0m",
      "\u001b[0;31mFileExistsError\u001b[0m                           Traceback (most recent call last)",
      "\u001b[0;32m<ipython-input-11-9ef278089501>\u001b[0m in \u001b[0;36m<module>\u001b[0;34m\u001b[0m\n\u001b[0;32m----> 1\u001b[0;31m \u001b[0mos\u001b[0m\u001b[0;34m.\u001b[0m\u001b[0mmkdir\u001b[0m\u001b[0;34m(\u001b[0m\u001b[0mtest_folder\u001b[0m\u001b[0;34m)\u001b[0m\u001b[0;34m\u001b[0m\u001b[0;34m\u001b[0m\u001b[0m\n\u001b[0m\u001b[1;32m      2\u001b[0m \u001b[0mos\u001b[0m\u001b[0;34m.\u001b[0m\u001b[0mmkdir\u001b[0m\u001b[0;34m(\u001b[0m\u001b[0mtest_santa\u001b[0m\u001b[0;34m)\u001b[0m\u001b[0;34m\u001b[0m\u001b[0;34m\u001b[0m\u001b[0m\n\u001b[1;32m      3\u001b[0m \u001b[0mos\u001b[0m\u001b[0;34m.\u001b[0m\u001b[0mmkdir\u001b[0m\u001b[0;34m(\u001b[0m\u001b[0mtest_not_santa\u001b[0m\u001b[0;34m)\u001b[0m\u001b[0;34m\u001b[0m\u001b[0;34m\u001b[0m\u001b[0m\n\u001b[1;32m      4\u001b[0m \u001b[0;34m\u001b[0m\u001b[0m\n\u001b[1;32m      5\u001b[0m \u001b[0mos\u001b[0m\u001b[0;34m.\u001b[0m\u001b[0mmkdir\u001b[0m\u001b[0;34m(\u001b[0m\u001b[0mtrain_folder\u001b[0m\u001b[0;34m)\u001b[0m\u001b[0;34m\u001b[0m\u001b[0;34m\u001b[0m\u001b[0m\n",
      "\u001b[0;31mFileExistsError\u001b[0m: [Errno 17] File exists: 'split/test'"
     ]
    }
   ],
   "source": [
    "os.mkdir(test_folder)\n",
    "os.mkdir(test_santa)\n",
    "os.mkdir(test_not_santa)\n",
    "\n",
    "os.mkdir(train_folder)\n",
    "os.mkdir(train_santa)\n",
    "os.mkdir(train_not_santa)\n",
    "\n",
    "os.mkdir(val_folder)\n",
    "os.mkdir(val_santa)\n",
    "os.mkdir(val_not_santa)"
   ]
  },
  {
   "cell_type": "markdown",
   "metadata": {},
   "source": [
    "Copy the Santa images in the three santa subfolders. Let's put the first 271 images in the training set, the next 100 images in the validation set and the final 90 images in the test set."
   ]
  },
  {
   "cell_type": "code",
   "execution_count": 12,
   "metadata": {
    "ExecuteTime": {
     "end_time": "2020-10-21T02:04:36.619060Z",
     "start_time": "2020-10-21T02:04:36.164631Z"
    }
   },
   "outputs": [],
   "source": [
    "# train santa\n",
    "imgs = imgs_santa[:271]\n",
    "for img in imgs:\n",
    "    origin = os.path.join(data_santa_dir, img)\n",
    "    destination = os.path.join(train_santa, img)\n",
    "    shutil.copyfile(origin, destination)"
   ]
  },
  {
   "cell_type": "code",
   "execution_count": 13,
   "metadata": {
    "ExecuteTime": {
     "end_time": "2020-10-21T02:04:37.058044Z",
     "start_time": "2020-10-21T02:04:36.805198Z"
    }
   },
   "outputs": [],
   "source": [
    "# validation santa\n",
    "imgs = imgs_santa[271:371]\n",
    "for img in imgs:\n",
    "    origin = os.path.join(data_santa_dir, img)\n",
    "    destination = os.path.join(val_santa, img)\n",
    "    shutil.copyfile(origin, destination)"
   ]
  },
  {
   "cell_type": "code",
   "execution_count": 14,
   "metadata": {
    "ExecuteTime": {
     "end_time": "2020-10-21T02:04:37.472220Z",
     "start_time": "2020-10-21T02:04:37.307891Z"
    }
   },
   "outputs": [],
   "source": [
    "# test santa\n",
    "imgs = imgs_santa[371:]\n",
    "for img in imgs:\n",
    "    origin = os.path.join(data_santa_dir, img)\n",
    "    destination = os.path.join(test_santa, img)\n",
    "    shutil.copyfile(origin, destination)"
   ]
  },
  {
   "cell_type": "markdown",
   "metadata": {},
   "source": [
    "Now, repeat all this for the `not_santa` images!"
   ]
  },
  {
   "cell_type": "code",
   "execution_count": 15,
   "metadata": {
    "ExecuteTime": {
     "end_time": "2020-10-21T02:04:39.005889Z",
     "start_time": "2020-10-21T02:04:38.452432Z"
    }
   },
   "outputs": [],
   "source": [
    "# train not_santa\n",
    "imgs = imgs_not_santa[:271]\n",
    "for img in imgs:\n",
    "    origin = os.path.join(data_not_santa_dir, img)\n",
    "    destination = os.path.join(train_not_santa, img)\n",
    "    shutil.copyfile(origin, destination)\n",
    "# validation not_santa\n",
    "imgs = imgs_not_santa[271:371]\n",
    "for img in imgs:\n",
    "    origin = os.path.join(data_not_santa_dir, img)\n",
    "    destination = os.path.join(val_not_santa, img)\n",
    "    shutil.copyfile(origin, destination)\n",
    "# test not_santa\n",
    "imgs = imgs_not_santa[371:]\n",
    "for img in imgs:\n",
    "    origin = os.path.join(data_not_santa_dir, img)\n",
    "    destination = os.path.join(test_not_santa, img)\n",
    "    shutil.copyfile(origin, destination)"
   ]
  },
  {
   "cell_type": "markdown",
   "metadata": {},
   "source": [
    "Let's print out how many images we have in each directory so we know for sure our numbers are right!"
   ]
  },
  {
   "cell_type": "code",
   "execution_count": 16,
   "metadata": {
    "ExecuteTime": {
     "end_time": "2020-10-21T02:04:39.577913Z",
     "start_time": "2020-10-21T02:04:39.572696Z"
    }
   },
   "outputs": [
    {
     "name": "stdout",
     "output_type": "stream",
     "text": [
      "There are 271 santa images in the training set\n"
     ]
    }
   ],
   "source": [
    "print('There are', len(os.listdir(train_santa)), 'santa images in the training set')"
   ]
  },
  {
   "cell_type": "code",
   "execution_count": 17,
   "metadata": {
    "ExecuteTime": {
     "end_time": "2020-10-21T02:04:40.441091Z",
     "start_time": "2020-10-21T02:04:40.436285Z"
    }
   },
   "outputs": [
    {
     "name": "stdout",
     "output_type": "stream",
     "text": [
      "There are 100 santa images in the validation set\n"
     ]
    }
   ],
   "source": [
    "print('There are', len(os.listdir(val_santa)), 'santa images in the validation set')"
   ]
  },
  {
   "cell_type": "code",
   "execution_count": 18,
   "metadata": {
    "ExecuteTime": {
     "end_time": "2020-10-21T02:04:41.624499Z",
     "start_time": "2020-10-21T02:04:41.620052Z"
    }
   },
   "outputs": [
    {
     "name": "stdout",
     "output_type": "stream",
     "text": [
      "There are 90 santa images in the test set\n"
     ]
    }
   ],
   "source": [
    "print('There are', len(os.listdir(test_santa)), 'santa images in the test set')"
   ]
  },
  {
   "cell_type": "code",
   "execution_count": 19,
   "metadata": {
    "ExecuteTime": {
     "end_time": "2020-10-21T02:04:42.337552Z",
     "start_time": "2020-10-21T02:04:42.331868Z"
    }
   },
   "outputs": [
    {
     "name": "stdout",
     "output_type": "stream",
     "text": [
      "There are 271 images without santa in the train set\n"
     ]
    }
   ],
   "source": [
    "print('There are', len(os.listdir(train_not_santa)), 'images without santa in the train set')"
   ]
  },
  {
   "cell_type": "code",
   "execution_count": 20,
   "metadata": {
    "ExecuteTime": {
     "end_time": "2020-10-21T02:04:42.977920Z",
     "start_time": "2020-10-21T02:04:42.972647Z"
    }
   },
   "outputs": [
    {
     "name": "stdout",
     "output_type": "stream",
     "text": [
      "There are 100 images without santa in the validation set\n"
     ]
    }
   ],
   "source": [
    "print('There are', len(os.listdir(val_not_santa)), 'images without santa in the validation set')"
   ]
  },
  {
   "cell_type": "code",
   "execution_count": 21,
   "metadata": {
    "ExecuteTime": {
     "end_time": "2020-10-21T02:04:43.641222Z",
     "start_time": "2020-10-21T02:04:43.636202Z"
    }
   },
   "outputs": [
    {
     "name": "stdout",
     "output_type": "stream",
     "text": [
      "There are 90 images without santa in the test set\n"
     ]
    }
   ],
   "source": [
    "print('There are', len(os.listdir(test_not_santa)), 'images without santa in the test set')"
   ]
  },
  {
   "cell_type": "markdown",
   "metadata": {},
   "source": [
    "## Use a densely connected network as a baseline"
   ]
  },
  {
   "cell_type": "markdown",
   "metadata": {},
   "source": [
    "Now that we've a handle on our data, we can easily use Keras' module with image-processing tools. Let's import the necessary libraries below. "
   ]
  },
  {
   "cell_type": "code",
   "execution_count": 22,
   "metadata": {
    "ExecuteTime": {
     "end_time": "2020-10-21T02:04:52.120953Z",
     "start_time": "2020-10-21T02:04:48.179545Z"
    }
   },
   "outputs": [
    {
     "name": "stderr",
     "output_type": "stream",
     "text": [
      "\n",
      "Bad key \"text.kerning_factor\" on line 4 in\n",
      "/Users/spags/opt/anaconda3/envs/learn-env/lib/python3.6/site-packages/matplotlib/mpl-data/stylelib/_classic_test_patch.mplstyle.\n",
      "You probably need to get an updated matplotlibrc file from\n",
      "http://github.com/matplotlib/matplotlib/blob/master/matplotlibrc.template\n",
      "or from the matplotlib source distribution\n",
      "Using TensorFlow backend.\n"
     ]
    }
   ],
   "source": [
    "import time\n",
    "import matplotlib.pyplot as plt\n",
    "import scipy\n",
    "import numpy as np\n",
    "from PIL import Image\n",
    "from scipy import ndimage\n",
    "from keras.preprocessing.image import ImageDataGenerator, array_to_img, img_to_array, load_img\n",
    "\n",
    "np.random.seed(123)"
   ]
  },
  {
   "cell_type": "code",
   "execution_count": 23,
   "metadata": {
    "ExecuteTime": {
     "end_time": "2020-10-21T02:04:52.662754Z",
     "start_time": "2020-10-21T02:04:52.340070Z"
    }
   },
   "outputs": [
    {
     "name": "stdout",
     "output_type": "stream",
     "text": [
      "Found 180 images belonging to 2 classes.\n",
      "Found 200 images belonging to 2 classes.\n",
      "Found 542 images belonging to 2 classes.\n"
     ]
    }
   ],
   "source": [
    "# get all the data in the directory split/test (180 images), and reshape them\n",
    "test_generator = ImageDataGenerator(rescale=1./255).flow_from_directory(\n",
    "        test_folder, \n",
    "        target_size=(64, 64), batch_size = 180) \n",
    "\n",
    "# get all the data in the directory split/validation (200 images), and reshape them\n",
    "val_generator = ImageDataGenerator(rescale=1./255).flow_from_directory(\n",
    "        val_folder, \n",
    "        target_size=(64, 64), batch_size = 200)\n",
    "\n",
    "# get all the data in the directory split/train (542 images), and reshape them\n",
    "train_generator = ImageDataGenerator(rescale=1./255).flow_from_directory(\n",
    "        train_folder, \n",
    "        target_size=(64, 64), batch_size=542)"
   ]
  },
  {
   "cell_type": "code",
   "execution_count": 24,
   "metadata": {
    "ExecuteTime": {
     "end_time": "2020-10-21T02:05:14.830556Z",
     "start_time": "2020-10-21T02:04:55.684698Z"
    }
   },
   "outputs": [],
   "source": [
    "# create the data sets\n",
    "train_images, train_labels = next(train_generator)\n",
    "test_images, test_labels = next(test_generator)\n",
    "val_images, val_labels = next(val_generator)"
   ]
  },
  {
   "cell_type": "code",
   "execution_count": 25,
   "metadata": {
    "ExecuteTime": {
     "end_time": "2020-10-21T02:05:14.843610Z",
     "start_time": "2020-10-21T02:05:14.832778Z"
    }
   },
   "outputs": [
    {
     "name": "stdout",
     "output_type": "stream",
     "text": [
      "Number of training samples: 542\n",
      "Number of testing samples: 180\n",
      "Number of validation samples: 200\n",
      "train_images shape: (542, 64, 64, 3)\n",
      "train_labels shape: (542, 2)\n",
      "test_images shape: (180, 64, 64, 3)\n",
      "test_labels shape: (180, 2)\n",
      "val_images shape: (200, 64, 64, 3)\n",
      "val_labels shape: (200, 2)\n"
     ]
    }
   ],
   "source": [
    "# Explore your dataset again\n",
    "m_train = train_images.shape[0]\n",
    "num_px = train_images.shape[1]\n",
    "m_test = test_images.shape[0]\n",
    "m_val = val_images.shape[0]\n",
    "\n",
    "print (\"Number of training samples: \" + str(m_train))\n",
    "print (\"Number of testing samples: \" + str(m_test))\n",
    "print (\"Number of validation samples: \" + str(m_val))\n",
    "print (\"train_images shape: \" + str(train_images.shape))\n",
    "print (\"train_labels shape: \" + str(train_labels.shape))\n",
    "print (\"test_images shape: \" + str(test_images.shape))\n",
    "print (\"test_labels shape: \" + str(test_labels.shape))\n",
    "print (\"val_images shape: \" + str(val_images.shape))\n",
    "print (\"val_labels shape: \" + str(val_labels.shape))"
   ]
  },
  {
   "cell_type": "code",
   "execution_count": 26,
   "metadata": {
    "ExecuteTime": {
     "end_time": "2020-10-21T02:05:19.993740Z",
     "start_time": "2020-10-21T02:05:19.986843Z"
    }
   },
   "outputs": [
    {
     "name": "stdout",
     "output_type": "stream",
     "text": [
      "(542, 12288)\n",
      "(180, 12288)\n",
      "(200, 12288)\n"
     ]
    }
   ],
   "source": [
    "train_img = train_images.reshape(train_images.shape[0], -1)\n",
    "test_img = test_images.reshape(test_images.shape[0], -1)\n",
    "val_img = val_images.reshape(val_images.shape[0], -1)\n",
    "\n",
    "print(train_img.shape)\n",
    "print(test_img.shape)\n",
    "print(val_img.shape)"
   ]
  },
  {
   "cell_type": "code",
   "execution_count": 27,
   "metadata": {
    "ExecuteTime": {
     "end_time": "2020-10-21T02:05:22.224012Z",
     "start_time": "2020-10-21T02:05:22.218847Z"
    }
   },
   "outputs": [],
   "source": [
    "train_y = np.reshape(train_labels[:,0], (542,1))\n",
    "test_y = np.reshape(test_labels[:,0], (180,1))\n",
    "val_y = np.reshape(val_labels[:,0], (200,1))"
   ]
  },
  {
   "cell_type": "code",
   "execution_count": 28,
   "metadata": {
    "ExecuteTime": {
     "end_time": "2020-10-21T02:05:24.310403Z",
     "start_time": "2020-10-21T02:05:24.235304Z"
    }
   },
   "outputs": [],
   "source": [
    "# Build a baseline fully connected model\n",
    "from keras import models\n",
    "from keras import layers\n",
    "np.random.seed(123)\n",
    "model = models.Sequential()\n",
    "model.add(layers.Dense(20, activation='relu', input_shape=(12288,))) # 2 hidden layers\n",
    "model.add(layers.Dense(7, activation='relu'))\n",
    "model.add(layers.Dense(5, activation='relu'))\n",
    "model.add(layers.Dense(1, activation='sigmoid'))"
   ]
  },
  {
   "cell_type": "code",
   "execution_count": 29,
   "metadata": {
    "ExecuteTime": {
     "end_time": "2020-10-21T02:05:32.209308Z",
     "start_time": "2020-10-21T02:05:26.707074Z"
    }
   },
   "outputs": [
    {
     "name": "stdout",
     "output_type": "stream",
     "text": [
      "Train on 542 samples, validate on 200 samples\n",
      "Epoch 1/50\n",
      "542/542 [==============================] - 0s 608us/step - loss: 0.6983 - acc: 0.5000 - val_loss: 0.6651 - val_acc: 0.4950\n",
      "Epoch 2/50\n",
      "542/542 [==============================] - 0s 185us/step - loss: 0.6840 - acc: 0.5258 - val_loss: 0.6435 - val_acc: 0.5450\n",
      "Epoch 3/50\n",
      "542/542 [==============================] - 0s 186us/step - loss: 0.6649 - acc: 0.5590 - val_loss: 0.6437 - val_acc: 0.7150\n",
      "Epoch 4/50\n",
      "542/542 [==============================] - 0s 181us/step - loss: 0.6412 - acc: 0.6236 - val_loss: 0.7049 - val_acc: 0.5350\n",
      "Epoch 5/50\n",
      "542/542 [==============================] - 0s 193us/step - loss: 0.6373 - acc: 0.6439 - val_loss: 0.6047 - val_acc: 0.5750\n",
      "Epoch 6/50\n",
      "542/542 [==============================] - 0s 193us/step - loss: 0.6256 - acc: 0.6439 - val_loss: 0.5950 - val_acc: 0.7750\n",
      "Epoch 7/50\n",
      "542/542 [==============================] - 0s 173us/step - loss: 0.5968 - acc: 0.6919 - val_loss: 0.6427 - val_acc: 0.6650\n",
      "Epoch 8/50\n",
      "542/542 [==============================] - 0s 181us/step - loss: 0.5992 - acc: 0.6790 - val_loss: 0.7053 - val_acc: 0.6050\n",
      "Epoch 9/50\n",
      "542/542 [==============================] - 0s 188us/step - loss: 0.5633 - acc: 0.7232 - val_loss: 0.5033 - val_acc: 0.7850\n",
      "Epoch 10/50\n",
      "542/542 [==============================] - 0s 181us/step - loss: 0.5648 - acc: 0.7196 - val_loss: 0.5166 - val_acc: 0.7950\n",
      "Epoch 11/50\n",
      "542/542 [==============================] - 0s 182us/step - loss: 0.6226 - acc: 0.7030 - val_loss: 0.5330 - val_acc: 0.8150\n",
      "Epoch 12/50\n",
      "542/542 [==============================] - 0s 189us/step - loss: 0.5295 - acc: 0.7712 - val_loss: 0.5650 - val_acc: 0.6300\n",
      "Epoch 13/50\n",
      "542/542 [==============================] - 0s 186us/step - loss: 0.5310 - acc: 0.7472 - val_loss: 0.4923 - val_acc: 0.7600\n",
      "Epoch 14/50\n",
      "542/542 [==============================] - 0s 185us/step - loss: 0.5379 - acc: 0.7601 - val_loss: 0.5461 - val_acc: 0.7500\n",
      "Epoch 15/50\n",
      "542/542 [==============================] - 0s 185us/step - loss: 0.5049 - acc: 0.7694 - val_loss: 0.7731 - val_acc: 0.6450\n",
      "Epoch 16/50\n",
      "542/542 [==============================] - 0s 179us/step - loss: 0.4823 - acc: 0.7897 - val_loss: 0.5271 - val_acc: 0.6850\n",
      "Epoch 17/50\n",
      "542/542 [==============================] - 0s 188us/step - loss: 0.5203 - acc: 0.7103 - val_loss: 0.4798 - val_acc: 0.8000\n",
      "Epoch 18/50\n",
      "542/542 [==============================] - 0s 190us/step - loss: 0.4526 - acc: 0.7878 - val_loss: 0.4598 - val_acc: 0.8100\n",
      "Epoch 19/50\n",
      "542/542 [==============================] - 0s 181us/step - loss: 0.4607 - acc: 0.7601 - val_loss: 0.4411 - val_acc: 0.8200\n",
      "Epoch 20/50\n",
      "542/542 [==============================] - 0s 173us/step - loss: 0.4089 - acc: 0.8192 - val_loss: 0.8797 - val_acc: 0.6300\n",
      "Epoch 21/50\n",
      "542/542 [==============================] - 0s 168us/step - loss: 0.4595 - acc: 0.7934 - val_loss: 0.4261 - val_acc: 0.8200\n",
      "Epoch 22/50\n",
      "542/542 [==============================] - 0s 172us/step - loss: 0.4377 - acc: 0.7970 - val_loss: 0.4350 - val_acc: 0.8100\n",
      "Epoch 23/50\n",
      "542/542 [==============================] - 0s 184us/step - loss: 0.4144 - acc: 0.8007 - val_loss: 0.4575 - val_acc: 0.8100\n",
      "Epoch 24/50\n",
      "542/542 [==============================] - 0s 183us/step - loss: 0.4000 - acc: 0.8081 - val_loss: 0.5055 - val_acc: 0.7850\n",
      "Epoch 25/50\n",
      "542/542 [==============================] - 0s 188us/step - loss: 0.4417 - acc: 0.8007 - val_loss: 0.4993 - val_acc: 0.7200\n",
      "Epoch 26/50\n",
      "542/542 [==============================] - 0s 175us/step - loss: 0.3304 - acc: 0.8819 - val_loss: 0.6624 - val_acc: 0.7050\n",
      "Epoch 27/50\n",
      "542/542 [==============================] - 0s 170us/step - loss: 0.3987 - acc: 0.7934 - val_loss: 0.6477 - val_acc: 0.7050\n",
      "Epoch 28/50\n",
      "542/542 [==============================] - 0s 183us/step - loss: 0.3725 - acc: 0.8469 - val_loss: 0.5294 - val_acc: 0.7200\n",
      "Epoch 29/50\n",
      "542/542 [==============================] - 0s 190us/step - loss: 0.3271 - acc: 0.8690 - val_loss: 0.6758 - val_acc: 0.7100\n",
      "Epoch 30/50\n",
      "542/542 [==============================] - 0s 177us/step - loss: 0.3440 - acc: 0.8598 - val_loss: 0.4030 - val_acc: 0.8350\n",
      "Epoch 31/50\n",
      "542/542 [==============================] - 0s 192us/step - loss: 0.3723 - acc: 0.8266 - val_loss: 0.6657 - val_acc: 0.6200\n",
      "Epoch 32/50\n",
      "542/542 [==============================] - 0s 184us/step - loss: 0.3527 - acc: 0.8635 - val_loss: 0.4812 - val_acc: 0.7550\n",
      "Epoch 33/50\n",
      "542/542 [==============================] - 0s 182us/step - loss: 0.3945 - acc: 0.8358 - val_loss: 0.5022 - val_acc: 0.7150\n",
      "Epoch 34/50\n",
      "542/542 [==============================] - 0s 175us/step - loss: 0.2730 - acc: 0.9077 - val_loss: 0.4243 - val_acc: 0.8050\n",
      "Epoch 35/50\n",
      "542/542 [==============================] - 0s 183us/step - loss: 0.3181 - acc: 0.8708 - val_loss: 0.7394 - val_acc: 0.7050\n",
      "Epoch 36/50\n",
      "542/542 [==============================] - 0s 181us/step - loss: 0.2611 - acc: 0.9059 - val_loss: 0.7409 - val_acc: 0.7050\n",
      "Epoch 37/50\n",
      "542/542 [==============================] - 0s 175us/step - loss: 0.2601 - acc: 0.8985 - val_loss: 0.4565 - val_acc: 0.8200\n",
      "Epoch 38/50\n",
      "542/542 [==============================] - 0s 185us/step - loss: 0.3849 - acc: 0.8469 - val_loss: 0.3941 - val_acc: 0.8400\n",
      "Epoch 39/50\n",
      "542/542 [==============================] - 0s 192us/step - loss: 0.2799 - acc: 0.8856 - val_loss: 0.5168 - val_acc: 0.7400\n",
      "Epoch 40/50\n",
      "542/542 [==============================] - 0s 180us/step - loss: 0.2298 - acc: 0.9151 - val_loss: 0.6475 - val_acc: 0.7300\n",
      "Epoch 41/50\n",
      "542/542 [==============================] - 0s 188us/step - loss: 0.3152 - acc: 0.8727 - val_loss: 0.3894 - val_acc: 0.8350\n",
      "Epoch 42/50\n",
      "542/542 [==============================] - 0s 181us/step - loss: 0.1976 - acc: 0.9262 - val_loss: 0.4573 - val_acc: 0.8150\n",
      "Epoch 43/50\n",
      "542/542 [==============================] - 0s 174us/step - loss: 0.2681 - acc: 0.8930 - val_loss: 0.4473 - val_acc: 0.8300\n",
      "Epoch 44/50\n",
      "542/542 [==============================] - 0s 185us/step - loss: 0.3069 - acc: 0.8764 - val_loss: 0.4085 - val_acc: 0.8300\n",
      "Epoch 45/50\n",
      "542/542 [==============================] - 0s 181us/step - loss: 0.1856 - acc: 0.9502 - val_loss: 0.4284 - val_acc: 0.8400\n",
      "Epoch 46/50\n",
      "542/542 [==============================] - 0s 182us/step - loss: 0.5114 - acc: 0.7934 - val_loss: 0.5019 - val_acc: 0.8200\n",
      "Epoch 47/50\n",
      "542/542 [==============================] - 0s 187us/step - loss: 0.2545 - acc: 0.9114 - val_loss: 0.3936 - val_acc: 0.8450\n",
      "Epoch 48/50\n",
      "542/542 [==============================] - 0s 179us/step - loss: 0.2282 - acc: 0.9262 - val_loss: 0.3898 - val_acc: 0.8400\n",
      "Epoch 49/50\n",
      "542/542 [==============================] - 0s 180us/step - loss: 0.2837 - acc: 0.8819 - val_loss: 0.4079 - val_acc: 0.8400\n",
      "Epoch 50/50\n",
      "542/542 [==============================] - 0s 173us/step - loss: 0.1804 - acc: 0.9373 - val_loss: 0.4028 - val_acc: 0.8450\n"
     ]
    }
   ],
   "source": [
    "model.compile(optimizer='sgd',\n",
    "              loss='binary_crossentropy',\n",
    "              metrics=['accuracy'])\n",
    "\n",
    "histoire = model.fit(train_img,\n",
    "                    train_y,\n",
    "                    epochs=50,\n",
    "                    batch_size=32,\n",
    "                    validation_data=(val_img, val_y))"
   ]
  },
  {
   "cell_type": "code",
   "execution_count": 30,
   "metadata": {
    "ExecuteTime": {
     "end_time": "2020-10-21T02:05:39.073130Z",
     "start_time": "2020-10-21T02:05:39.028998Z"
    }
   },
   "outputs": [
    {
     "name": "stdout",
     "output_type": "stream",
     "text": [
      "542/542 [==============================] - 0s 72us/step\n"
     ]
    }
   ],
   "source": [
    "results_train = model.evaluate(train_img, train_y)"
   ]
  },
  {
   "cell_type": "code",
   "execution_count": 31,
   "metadata": {
    "ExecuteTime": {
     "end_time": "2020-10-21T02:06:03.078155Z",
     "start_time": "2020-10-21T02:06:03.058569Z"
    }
   },
   "outputs": [
    {
     "name": "stdout",
     "output_type": "stream",
     "text": [
      "180/180 [==============================] - 0s 84us/step\n"
     ]
    }
   ],
   "source": [
    "results_test = model.evaluate(test_img, test_y)"
   ]
  },
  {
   "cell_type": "code",
   "execution_count": 32,
   "metadata": {
    "ExecuteTime": {
     "end_time": "2020-10-21T02:06:05.630883Z",
     "start_time": "2020-10-21T02:06:05.626219Z"
    }
   },
   "outputs": [
    {
     "data": {
      "text/plain": [
       "[0.1307472500853873, 0.9649446494464945]"
      ]
     },
     "execution_count": 32,
     "metadata": {},
     "output_type": "execute_result"
    }
   ],
   "source": [
    "results_train"
   ]
  },
  {
   "cell_type": "code",
   "execution_count": 33,
   "metadata": {
    "ExecuteTime": {
     "end_time": "2020-10-21T02:06:10.390684Z",
     "start_time": "2020-10-21T02:06:10.385894Z"
    }
   },
   "outputs": [
    {
     "data": {
      "text/plain": [
       "[0.38841464221477506, 0.833333334657881]"
      ]
     },
     "execution_count": 33,
     "metadata": {},
     "output_type": "execute_result"
    }
   ],
   "source": [
    "results_test"
   ]
  },
  {
   "cell_type": "markdown",
   "metadata": {},
   "source": [
    "Remember that, in our previous lab on building deeper neural networks from scratch, we obtained a training accuracy of 95%, and a test set accuracy of 74.23%. \n",
    "\n",
    "This result is similar to what we got building our manual \"deeper\" dense model. The results are not entirely different. This is not a surprise!\n",
    "- Before, we only had a training and a validation set (which was at the same time the test set). Now we have split up the data 3-ways.\n",
    "- We didn't use minibatches before, yet we used mini-batches of 32 units here.\n",
    " \n",
    "## Build a CNN"
   ]
  },
  {
   "cell_type": "code",
   "execution_count": 34,
   "metadata": {
    "ExecuteTime": {
     "end_time": "2020-10-21T02:06:52.706772Z",
     "start_time": "2020-10-21T02:06:52.577339Z"
    }
   },
   "outputs": [],
   "source": [
    "model = models.Sequential()\n",
    "model.add(layers.Conv2D(32, (3, 3), activation='relu',\n",
    "                        input_shape=(64 ,64,  3)))\n",
    "model.add(layers.MaxPooling2D((2, 2)))\n",
    "\n",
    "model.add(layers.Conv2D(32, (4, 4), activation='relu'))\n",
    "model.add(layers.MaxPooling2D((2, 2)))\n",
    "\n",
    "model.add(layers.Conv2D(64, (3, 3), activation='relu'))\n",
    "model.add(layers.MaxPooling2D((2, 2)))\n",
    "\n",
    "model.add(layers.Flatten())\n",
    "model.add(layers.Dense(64, activation='relu'))\n",
    "model.add(layers.Dense(1, activation='sigmoid'))\n",
    "\n",
    "model.compile(loss='binary_crossentropy',\n",
    "              optimizer=\"sgd\",\n",
    "              metrics=['acc'])"
   ]
  },
  {
   "cell_type": "code",
   "execution_count": 35,
   "metadata": {
    "ExecuteTime": {
     "end_time": "2020-10-21T02:08:31.381355Z",
     "start_time": "2020-10-21T02:06:55.848554Z"
    },
    "scrolled": true
   },
   "outputs": [
    {
     "name": "stdout",
     "output_type": "stream",
     "text": [
      "Train on 542 samples, validate on 200 samples\n",
      "Epoch 1/30\n",
      "542/542 [==============================] - 3s 6ms/step - loss: 0.6837 - acc: 0.5240 - val_loss: 0.6723 - val_acc: 0.5000\n",
      "Epoch 2/30\n",
      "542/542 [==============================] - 3s 6ms/step - loss: 0.6738 - acc: 0.5000 - val_loss: 0.6650 - val_acc: 0.5000\n",
      "Epoch 3/30\n",
      "542/542 [==============================] - 3s 6ms/step - loss: 0.6668 - acc: 0.5000 - val_loss: 0.6573 - val_acc: 0.5000\n",
      "Epoch 4/30\n",
      "542/542 [==============================] - 3s 6ms/step - loss: 0.6602 - acc: 0.5074 - val_loss: 0.6491 - val_acc: 0.5300\n",
      "Epoch 5/30\n",
      "542/542 [==============================] - 3s 6ms/step - loss: 0.6493 - acc: 0.5517 - val_loss: 0.6383 - val_acc: 0.6050\n",
      "Epoch 6/30\n",
      "542/542 [==============================] - 3s 6ms/step - loss: 0.6379 - acc: 0.6162 - val_loss: 0.6234 - val_acc: 0.6400\n",
      "Epoch 7/30\n",
      "542/542 [==============================] - 3s 6ms/step - loss: 0.6231 - acc: 0.6642 - val_loss: 0.6045 - val_acc: 0.6550\n",
      "Epoch 8/30\n",
      "542/542 [==============================] - 3s 6ms/step - loss: 0.6049 - acc: 0.7011 - val_loss: 0.5860 - val_acc: 0.8150\n",
      "Epoch 9/30\n",
      "542/542 [==============================] - 3s 6ms/step - loss: 0.5846 - acc: 0.7694 - val_loss: 0.5558 - val_acc: 0.7000\n",
      "Epoch 10/30\n",
      "542/542 [==============================] - 3s 6ms/step - loss: 0.5705 - acc: 0.7657 - val_loss: 0.5479 - val_acc: 0.6400\n",
      "Epoch 11/30\n",
      "542/542 [==============================] - 3s 6ms/step - loss: 0.5398 - acc: 0.7934 - val_loss: 0.4919 - val_acc: 0.9050\n",
      "Epoch 12/30\n",
      "542/542 [==============================] - 3s 6ms/step - loss: 0.5162 - acc: 0.7860 - val_loss: 0.5052 - val_acc: 0.8300\n",
      "Epoch 13/30\n",
      "542/542 [==============================] - 3s 6ms/step - loss: 0.4865 - acc: 0.8007 - val_loss: 0.4294 - val_acc: 0.8950\n",
      "Epoch 14/30\n",
      "542/542 [==============================] - 3s 6ms/step - loss: 0.5295 - acc: 0.7417 - val_loss: 0.4039 - val_acc: 0.9150\n",
      "Epoch 15/30\n",
      "542/542 [==============================] - 3s 6ms/step - loss: 0.4907 - acc: 0.7749 - val_loss: 0.3885 - val_acc: 0.9100\n",
      "Epoch 16/30\n",
      "542/542 [==============================] - 3s 6ms/step - loss: 0.4761 - acc: 0.8026 - val_loss: 0.3909 - val_acc: 0.9100\n",
      "Epoch 17/30\n",
      "542/542 [==============================] - 3s 6ms/step - loss: 0.4203 - acc: 0.8432 - val_loss: 0.4317 - val_acc: 0.8000\n",
      "Epoch 18/30\n",
      "542/542 [==============================] - 3s 6ms/step - loss: 0.4258 - acc: 0.8321 - val_loss: 0.7708 - val_acc: 0.5700\n",
      "Epoch 19/30\n",
      "542/542 [==============================] - 3s 6ms/step - loss: 0.4131 - acc: 0.8487 - val_loss: 0.6591 - val_acc: 0.6200\n",
      "Epoch 20/30\n",
      "542/542 [==============================] - 3s 6ms/step - loss: 0.4267 - acc: 0.8192 - val_loss: 0.4022 - val_acc: 0.8000\n",
      "Epoch 21/30\n",
      "542/542 [==============================] - 3s 6ms/step - loss: 0.3486 - acc: 0.8838 - val_loss: 0.2735 - val_acc: 0.9250\n",
      "Epoch 22/30\n",
      "542/542 [==============================] - 3s 6ms/step - loss: 0.3878 - acc: 0.8284 - val_loss: 0.2823 - val_acc: 0.9250\n",
      "Epoch 23/30\n",
      "542/542 [==============================] - 3s 6ms/step - loss: 0.2936 - acc: 0.9041 - val_loss: 0.2735 - val_acc: 0.9300\n",
      "Epoch 24/30\n",
      "542/542 [==============================] - 3s 6ms/step - loss: 0.3046 - acc: 0.8856 - val_loss: 0.2787 - val_acc: 0.9000\n",
      "Epoch 25/30\n",
      "542/542 [==============================] - 3s 6ms/step - loss: 0.3305 - acc: 0.8708 - val_loss: 0.2677 - val_acc: 0.9250\n",
      "Epoch 26/30\n",
      "542/542 [==============================] - 3s 6ms/step - loss: 0.2990 - acc: 0.8948 - val_loss: 0.2708 - val_acc: 0.9200\n",
      "Epoch 27/30\n",
      "542/542 [==============================] - 3s 6ms/step - loss: 0.2964 - acc: 0.8782 - val_loss: 0.2230 - val_acc: 0.9250\n",
      "Epoch 28/30\n",
      "542/542 [==============================] - 3s 6ms/step - loss: 0.2464 - acc: 0.9114 - val_loss: 0.2247 - val_acc: 0.9400\n",
      "Epoch 29/30\n",
      "542/542 [==============================] - 3s 6ms/step - loss: 0.2767 - acc: 0.8893 - val_loss: 0.2879 - val_acc: 0.9000\n",
      "Epoch 30/30\n",
      "542/542 [==============================] - 3s 6ms/step - loss: 0.2492 - acc: 0.9059 - val_loss: 0.2413 - val_acc: 0.9250\n"
     ]
    }
   ],
   "source": [
    "history = model.fit(train_images,\n",
    "                    train_y,\n",
    "                    epochs=30,\n",
    "                    batch_size=32,\n",
    "                    validation_data=(val_images, val_y))"
   ]
  },
  {
   "cell_type": "code",
   "execution_count": 36,
   "metadata": {
    "ExecuteTime": {
     "end_time": "2020-10-21T02:08:37.924115Z",
     "start_time": "2020-10-21T02:08:36.919250Z"
    }
   },
   "outputs": [
    {
     "name": "stdout",
     "output_type": "stream",
     "text": [
      "542/542 [==============================] - 1s 2ms/step\n"
     ]
    }
   ],
   "source": [
    "results_train = model.evaluate(train_images, train_y)"
   ]
  },
  {
   "cell_type": "code",
   "execution_count": 37,
   "metadata": {
    "ExecuteTime": {
     "end_time": "2020-10-21T02:08:38.683169Z",
     "start_time": "2020-10-21T02:08:38.326129Z"
    }
   },
   "outputs": [
    {
     "name": "stdout",
     "output_type": "stream",
     "text": [
      "180/180 [==============================] - 0s 2ms/step\n"
     ]
    }
   ],
   "source": [
    "results_test = model.evaluate(test_images, test_y)"
   ]
  },
  {
   "cell_type": "code",
   "execution_count": 38,
   "metadata": {
    "ExecuteTime": {
     "end_time": "2020-10-21T02:08:40.995145Z",
     "start_time": "2020-10-21T02:08:40.990394Z"
    }
   },
   "outputs": [
    {
     "data": {
      "text/plain": [
       "[0.2437225518081461, 0.9243542437623787]"
      ]
     },
     "execution_count": 38,
     "metadata": {},
     "output_type": "execute_result"
    }
   ],
   "source": [
    "results_train"
   ]
  },
  {
   "cell_type": "code",
   "execution_count": 39,
   "metadata": {
    "ExecuteTime": {
     "end_time": "2020-10-21T02:08:42.466342Z",
     "start_time": "2020-10-21T02:08:42.461707Z"
    }
   },
   "outputs": [
    {
     "data": {
      "text/plain": [
       "[0.31030696829160054, 0.9055555529064603]"
      ]
     },
     "execution_count": 39,
     "metadata": {},
     "output_type": "execute_result"
    }
   ],
   "source": [
    "results_test"
   ]
  },
  {
   "cell_type": "markdown",
   "metadata": {},
   "source": [
    "## Data Augmentation"
   ]
  },
  {
   "cell_type": "markdown",
   "metadata": {},
   "source": [
    "`ImageDataGenerator()` becomes really useful when we *actually* want to generate more data. We'll show you how this works. "
   ]
  },
  {
   "cell_type": "code",
   "execution_count": 40,
   "metadata": {
    "ExecuteTime": {
     "end_time": "2020-10-21T02:10:17.743992Z",
     "start_time": "2020-10-21T02:10:17.739568Z"
    }
   },
   "outputs": [],
   "source": [
    "train_datagen = ImageDataGenerator(rescale=1./255, \n",
    "                                   rotation_range=40, \n",
    "                                   width_shift_range=0.2, \n",
    "                                   height_shift_range=0.2, \n",
    "                                   shear_range=0.3, \n",
    "                                   zoom_range=0.1, \n",
    "                                   horizontal_flip=False)"
   ]
  },
  {
   "cell_type": "code",
   "execution_count": 41,
   "metadata": {
    "ExecuteTime": {
     "end_time": "2020-10-21T02:11:19.209727Z",
     "start_time": "2020-10-21T02:11:18.522618Z"
    }
   },
   "outputs": [
    {
     "data": {
      "image/png": "[encoded data removed]",
      "text/plain": [
       "<Figure size 432x288 with 1 Axes>"
      ]
     },
     "metadata": {
      "needs_background": "light"
     },
     "output_type": "display_data"
    },
    {
     "data": {
      "image/png": "[encoded data removed]",
      "text/plain": [
       "<Figure size 432x288 with 1 Axes>"
      ]
     },
     "metadata": {
      "needs_background": "light"
     },
     "output_type": "display_data"
    },
    {
     "data": {
      "image/png": "[encoded data removed]",
      "text/plain": [
       "<Figure size 432x288 with 1 Axes>"
      ]
     },
     "metadata": {
      "needs_background": "light"
     },
     "output_type": "display_data"
    }
   ],
   "source": [
    "names = [os.path.join(train_santa, name) for name in os.listdir(train_santa)]\n",
    "img_path = names[91]\n",
    "img = load_img(img_path, target_size=(64, 64))\n",
    "\n",
    "reshape_img = img_to_array(img) \n",
    "reshape_img = reshape_img.reshape((1,) + reshape_img.shape) \n",
    "i=0\n",
    "for batch in train_datagen.flow(reshape_img, batch_size=1):\n",
    "    plt.figure(i)\n",
    "    imgplot = plt.imshow(array_to_img(batch[0]))\n",
    "    i += 1\n",
    "    if i % 3 == 0:\n",
    "        break\n",
    "plt.show()"
   ]
  },
  {
   "cell_type": "code",
   "execution_count": 42,
   "metadata": {
    "ExecuteTime": {
     "end_time": "2020-10-21T02:11:28.247735Z",
     "start_time": "2020-10-21T02:11:27.922872Z"
    }
   },
   "outputs": [
    {
     "name": "stdout",
     "output_type": "stream",
     "text": [
      "Found 180 images belonging to 2 classes.\n",
      "Found 200 images belonging to 2 classes.\n",
      "Found 542 images belonging to 2 classes.\n"
     ]
    }
   ],
   "source": [
    "# get all the data in the directory split/test (180 images), and reshape them\n",
    "test_generator = ImageDataGenerator(rescale=1./255).flow_from_directory(\n",
    "        test_folder, \n",
    "        target_size=(64, 64), \n",
    "        batch_size = 180,\n",
    "        class_mode='binary') \n",
    "\n",
    "# get all the data in the directory split/validation (200 images), and reshape them\n",
    "val_generator = ImageDataGenerator(rescale=1./255).flow_from_directory(\n",
    "        val_folder, \n",
    "        target_size=(64, 64),\n",
    "        batch_size = 32,\n",
    "        class_mode='binary')\n",
    "\n",
    "# get all the data in the directory split/train (542 images), and reshape them\n",
    "train_generator = train_datagen.flow_from_directory(\n",
    "        train_folder, \n",
    "        target_size=(64, 64), \n",
    "        batch_size = 32, \n",
    "        class_mode='binary')"
   ]
  },
  {
   "cell_type": "code",
   "execution_count": 43,
   "metadata": {
    "ExecuteTime": {
     "end_time": "2020-10-21T02:11:29.542970Z",
     "start_time": "2020-10-21T02:11:29.418882Z"
    }
   },
   "outputs": [],
   "source": [
    "model = models.Sequential()\n",
    "model.add(layers.Conv2D(32, (3, 3), activation='relu',\n",
    "                        input_shape=(64 ,64,  3)))\n",
    "model.add(layers.MaxPooling2D((2, 2)))\n",
    "\n",
    "model.add(layers.Conv2D(32, (4, 4), activation='relu'))\n",
    "model.add(layers.MaxPooling2D((2, 2)))\n",
    "\n",
    "model.add(layers.Conv2D(64, (3, 3), activation='relu'))\n",
    "model.add(layers.MaxPooling2D((2, 2)))\n",
    "\n",
    "model.add(layers.Flatten())\n",
    "model.add(layers.Dense(64, activation='relu'))\n",
    "model.add(layers.Dense(1, activation='sigmoid'))\n",
    "\n",
    "model.compile(loss='binary_crossentropy',\n",
    "              optimizer= 'sgd',\n",
    "              metrics=['acc'])"
   ]
  },
  {
   "cell_type": "code",
   "execution_count": 44,
   "metadata": {
    "ExecuteTime": {
     "end_time": "2020-10-21T02:29:45.274741Z",
     "start_time": "2020-10-21T02:11:34.281791Z"
    }
   },
   "outputs": [
    {
     "name": "stdout",
     "output_type": "stream",
     "text": [
      "Epoch 1/30\n",
      "25/25 [==============================] - 33s 1s/step - loss: 0.6821 - acc: 0.5088 - val_loss: 0.6734 - val_acc: 0.5151\n",
      "Epoch 2/30\n",
      "25/25 [==============================] - 29s 1s/step - loss: 0.6808 - acc: 0.4849 - val_loss: 0.6747 - val_acc: 0.4830\n",
      "Epoch 3/30\n",
      "25/25 [==============================] - 38s 2s/step - loss: 0.6732 - acc: 0.5059 - val_loss: 0.6645 - val_acc: 0.5014\n",
      "Epoch 4/30\n",
      "25/25 [==============================] - 40s 2s/step - loss: 0.6665 - acc: 0.4996 - val_loss: 0.6560 - val_acc: 0.5043\n",
      "Epoch 5/30\n",
      "25/25 [==============================] - 42s 2s/step - loss: 0.6614 - acc: 0.5063 - val_loss: 0.6445 - val_acc: 0.5124\n",
      "Epoch 6/30\n",
      "25/25 [==============================] - 36s 1s/step - loss: 0.6504 - acc: 0.5415 - val_loss: 0.6335 - val_acc: 0.5199\n",
      "Epoch 7/30\n",
      "25/25 [==============================] - 41s 2s/step - loss: 0.6339 - acc: 0.5538 - val_loss: 0.6125 - val_acc: 0.6506\n",
      "Epoch 8/30\n",
      "25/25 [==============================] - 32s 1s/step - loss: 0.6182 - acc: 0.6751 - val_loss: 0.5903 - val_acc: 0.5962\n",
      "Epoch 9/30\n",
      "25/25 [==============================] - 42s 2s/step - loss: 0.5954 - acc: 0.7224 - val_loss: 0.5579 - val_acc: 0.6364\n",
      "Epoch 10/30\n",
      "25/25 [==============================] - 33s 1s/step - loss: 0.5691 - acc: 0.7728 - val_loss: 0.5151 - val_acc: 0.8846\n",
      "Epoch 11/30\n",
      "25/25 [==============================] - 40s 2s/step - loss: 0.5320 - acc: 0.8219 - val_loss: 0.4665 - val_acc: 0.9162\n",
      "Epoch 12/30\n",
      "25/25 [==============================] - 33s 1s/step - loss: 0.4892 - acc: 0.8197 - val_loss: 0.4820 - val_acc: 0.6923\n",
      "Epoch 13/30\n",
      "25/25 [==============================] - 40s 2s/step - loss: 0.5243 - acc: 0.7442 - val_loss: 0.3923 - val_acc: 0.8849\n",
      "Epoch 14/30\n",
      "25/25 [==============================] - 34s 1s/step - loss: 0.4704 - acc: 0.8032 - val_loss: 0.3490 - val_acc: 0.9119\n",
      "Epoch 15/30\n",
      "25/25 [==============================] - 36s 1s/step - loss: 0.4444 - acc: 0.8046 - val_loss: 0.4477 - val_acc: 0.7527\n",
      "Epoch 16/30\n",
      "25/25 [==============================] - 34s 1s/step - loss: 0.4142 - acc: 0.8284 - val_loss: 0.4153 - val_acc: 0.7727\n",
      "Epoch 17/30\n",
      "25/25 [==============================] - 35s 1s/step - loss: 0.3602 - acc: 0.8632 - val_loss: 0.3055 - val_acc: 0.8970\n",
      "Epoch 18/30\n",
      "25/25 [==============================] - 35s 1s/step - loss: 0.4013 - acc: 0.8396 - val_loss: 0.2884 - val_acc: 0.9105\n",
      "Epoch 19/30\n",
      "25/25 [==============================] - 35s 1s/step - loss: 0.3335 - acc: 0.8659 - val_loss: 0.2997 - val_acc: 0.8915\n",
      "Epoch 20/30\n",
      "25/25 [==============================] - 46s 2s/step - loss: 0.3432 - acc: 0.8620 - val_loss: 0.2483 - val_acc: 0.9247\n",
      "Epoch 21/30\n",
      "25/25 [==============================] - 34s 1s/step - loss: 0.3117 - acc: 0.8669 - val_loss: 0.2419 - val_acc: 0.9205\n",
      "Epoch 22/30\n",
      "25/25 [==============================] - 39s 2s/step - loss: 0.3243 - acc: 0.8695 - val_loss: 0.2303 - val_acc: 0.9327\n",
      "Epoch 23/30\n",
      "25/25 [==============================] - 34s 1s/step - loss: 0.2672 - acc: 0.8961 - val_loss: 0.2595 - val_acc: 0.9247\n",
      "Epoch 24/30\n",
      "25/25 [==============================] - 38s 2s/step - loss: 0.2774 - acc: 0.8958 - val_loss: 0.3376 - val_acc: 0.8764\n",
      "Epoch 25/30\n",
      "25/25 [==============================] - 34s 1s/step - loss: 0.3062 - acc: 0.8782 - val_loss: 0.3619 - val_acc: 0.8622\n",
      "Epoch 26/30\n",
      "25/25 [==============================] - 38s 2s/step - loss: 0.2448 - acc: 0.9118 - val_loss: 0.2156 - val_acc: 0.9148\n",
      "Epoch 27/30\n",
      "25/25 [==============================] - 32s 1s/step - loss: 0.2731 - acc: 0.8910 - val_loss: 0.2621 - val_acc: 0.9062\n",
      "Epoch 28/30\n",
      "25/25 [==============================] - 36s 1s/step - loss: 0.2803 - acc: 0.8797 - val_loss: 0.2062 - val_acc: 0.9247\n",
      "Epoch 29/30\n",
      "25/25 [==============================] - 34s 1s/step - loss: 0.2314 - acc: 0.9112 - val_loss: 0.2794 - val_acc: 0.9066\n",
      "Epoch 30/30\n",
      "25/25 [==============================] - 36s 1s/step - loss: 0.2640 - acc: 0.9057 - val_loss: 0.2840 - val_acc: 0.9048\n"
     ]
    }
   ],
   "source": [
    "history_2 = model.fit_generator(train_generator, \n",
    "                                steps_per_epoch=25, \n",
    "                                epochs=30, \n",
    "                                validation_data=val_generator, \n",
    "                                validation_steps=25)"
   ]
  },
  {
   "cell_type": "code",
   "execution_count": 45,
   "metadata": {
    "ExecuteTime": {
     "end_time": "2020-10-21T02:29:49.822518Z",
     "start_time": "2020-10-21T02:29:45.277887Z"
    }
   },
   "outputs": [],
   "source": [
    "test_x, test_y = next(test_generator)"
   ]
  },
  {
   "cell_type": "code",
   "execution_count": 46,
   "metadata": {
    "ExecuteTime": {
     "end_time": "2020-10-21T02:29:50.207281Z",
     "start_time": "2020-10-21T02:29:49.825431Z"
    }
   },
   "outputs": [
    {
     "name": "stdout",
     "output_type": "stream",
     "text": [
      "180/180 [==============================] - 0s 2ms/step\n"
     ]
    }
   ],
   "source": [
    "results_test = model.evaluate(test_x, test_y)"
   ]
  },
  {
   "cell_type": "code",
   "execution_count": 47,
   "metadata": {
    "ExecuteTime": {
     "end_time": "2020-10-21T02:29:50.215260Z",
     "start_time": "2020-10-21T02:29:50.209732Z"
    }
   },
   "outputs": [
    {
     "data": {
      "text/plain": [
       "[0.2865968465805054, 0.9277777791023254]"
      ]
     },
     "execution_count": 47,
     "metadata": {},
     "output_type": "execute_result"
    }
   ],
   "source": [
    "results_test"
   ]
  },
  {
   "cell_type": "markdown",
   "metadata": {},
   "source": [
    "## Summary  \n",
    "\n",
    "In this code along lab, we looked again at some of the preprocessing techniques needed in order to organize our data prior to building a model using Keras. Afterwards, we investigated new code in order to build a CNN for image recognition."
   ]
  }
 ],
 "metadata": {
  "kernelspec": {
   "display_name": "Python 3",
   "language": "python",
   "name": "python3"
  },
  "language_info": {
   "codemirror_mode": {
    "name": "ipython",
    "version": 3
   },
   "file_extension": ".py",
   "mimetype": "text/x-python",
   "name": "python",
   "nbconvert_exporter": "python",
   "pygments_lexer": "ipython3",
   "version": "3.6.9"
  },
  "toc": {
   "base_numbering": 1,
   "nav_menu": {},
   "number_sections": true,
   "sideBar": true,
   "skip_h1_title": false,
   "title_cell": "Table of Contents",
   "title_sidebar": "Contents",
   "toc_cell": false,
   "toc_position": {},
   "toc_section_display": true,
   "toc_window_display": true
  }
 },
 "nbformat": 4,
 "nbformat_minor": 2
}
